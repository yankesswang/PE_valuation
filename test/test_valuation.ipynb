{
 "cells": [
  {
   "cell_type": "code",
   "execution_count": 177,
   "metadata": {},
   "outputs": [],
   "source": [
    "import re\n",
    "import requests\n",
    "import pandas as pd\n",
    "from bs4 import BeautifulSoup\n",
    "from io import StringIO\n",
    "import time, random\n",
    "from requests.exceptions import RequestException\n",
    "from tqdm import tqdm  # Optional: For progress bars\n",
    "import requests\n",
    "from bs4 import BeautifulSoup\n",
    "import numpy as np\n",
    "import time\n",
    "from typing import Dict, List, Optional, Tuple\n",
    "from requests.exceptions import RequestException, HTTPError\n",
    "import pandas as pd\n",
    "from tqdm import tqdm\n",
    "import random\n"
   ]
  },
  {
   "cell_type": "code",
   "execution_count": 2,
   "metadata": {},
   "outputs": [],
   "source": [
    "def fetch_url(url, headers, max_retries=3, timeout=10, sleep_between_retries=2):\n",
    "    \"\"\"\n",
    "    Fetches the content of a URL with retries.\n",
    "\n",
    "    Args:\n",
    "        url (str): The URL to fetch.\n",
    "        headers (dict): HTTP headers to include in the request.\n",
    "        max_retries (int): Maximum number of retry attempts.\n",
    "        timeout (int): Timeout for the HTTP request.\n",
    "        sleep_between_retries (int): Seconds to wait between retries.\n",
    "\n",
    "    Returns:\n",
    "        requests.Response or None: The HTTP response if successful, else None.\n",
    "    \"\"\"\n",
    "    for attempt in range(max_retries):\n",
    "        try:\n",
    "            response = requests.get(url, headers=headers, timeout=timeout)\n",
    "            response.raise_for_status()\n",
    "            return response\n",
    "        except RequestException as e:\n",
    "            print(f\"Attempt {attempt + 1} failed for URL: {url}. Error: {e}\")\n",
    "            if attempt < max_retries - 1:\n",
    "                time.sleep(sleep_between_retries)\n",
    "            else:\n",
    "                print(f\"Failed to fetch data for {url} after {max_retries} attempts.\")\n",
    "                return None\n"
   ]
  },
  {
   "cell_type": "code",
   "execution_count": 3,
   "metadata": {},
   "outputs": [],
   "source": [
    "def parse_html(content):\n",
    "    \"\"\"\n",
    "    Parses HTML content using BeautifulSoup.\n",
    "\n",
    "    Args:\n",
    "        content (str): HTML content as a string.\n",
    "\n",
    "    Returns:\n",
    "        BeautifulSoup: Parsed HTML.\n",
    "    \"\"\"\n",
    "    return BeautifulSoup(content, 'html.parser')\n"
   ]
  },
  {
   "cell_type": "code",
   "execution_count": 244,
   "metadata": {},
   "outputs": [],
   "source": [
    "def get_eps_forecast(company, current_year = 2025):\n",
    "    \"\"\"\n",
    "    Retrieves EPS forecasts for a given company from StockAnalysis.\n",
    "\n",
    "    Args:\n",
    "        company (str): The stock ticker symbol.\n",
    "\n",
    "    Returns:\n",
    "        dict or None: Dictionary containing EPS for 2024 and 2025, or None if failed.\n",
    "    \"\"\"\n",
    "    url = f\"https://stockanalysis.com/stocks/{company}/forecast/\"\n",
    "    headers = {\n",
    "        'User-Agent': 'Mozilla/5.0 (Windows NT 10.0; Win64; x64) AppleWebKit/537.36 (KHTML, like Gecko)'\n",
    "                      ' Chrome/91.0.4472.124 Safari/537.36'\n",
    "    }\n",
    "\n",
    "    response = fetch_url(url, headers)\n",
    "    if not response:\n",
    "        return None\n",
    "\n",
    "    soup = parse_html(response.text)\n",
    "    table = soup.find('table', {'class': 'w-full whitespace-nowrap border border-gray-200 text-right text-sm dark:border-dark-700 sm:text-base'})\n",
    "\n",
    "    if not table:\n",
    "        print(f\"No forecast table found for {company}\")\n",
    "        return None\n",
    "\n",
    "    headers_table = [header.get('title', header.text).strip() for header in table.find_all('th')]\n",
    "    rows = table.find_all('tr')[1:]  # Skip header row\n",
    "    data = []\n",
    "\n",
    "    for row in rows:\n",
    "        cells = row.find_all('td')\n",
    "        cell_data = [cell.text.strip() for cell in cells]\n",
    "        # Ensure data aligns with headers\n",
    "        cell_data += [''] * (len(headers_table) - len(cell_data))\n",
    "        data.append(cell_data[:len(headers_table)])\n",
    "\n",
    "    if not data:\n",
    "        print(f\"No forecast data extracted for {company}\")\n",
    "        return None\n",
    "  \n",
    "    df = pd.DataFrame(data, columns=headers_table)\n",
    "    # print(df)\n",
    "\n",
    "    try:\n",
    "        eps_row = df[df['Fiscal Year'] == 'EPS']\n",
    "        eps_current_year = float(eps_row[str(current_year)].values[0]) if not eps_row.empty and str(current_year) in df.columns else 0\n",
    "        eps_next_year = float(eps_row[str(current_year+1)].values[0]) if not eps_row.empty and str(current_year+1) in df.columns else 0\n",
    "        eps_past_year = float(eps_row[str(current_year-1)].values[0]) if not eps_row.empty and str(current_year+1) in df.columns else 0\n",
    "        eps_past_year_5 = float(eps_row[str(current_year-5)].values[0]) if not eps_row.empty and str(current_year+1) in df.columns else 0\n",
    "        print('eps_past_year:', eps_past_year)\n",
    "        print('eps_past_year_5:', eps_past_year_5)\n",
    "        if eps_past_year_5 > 0 and eps_past_year > 0:\n",
    "            eps_growth = round(((eps_past_year / eps_past_year_5) ** (1 / 5) - 1) * 100, 2)\n",
    "        else:\n",
    "            eps_growth = None\n",
    "        # print('eps growth:', eps_growth)\n",
    "    except (KeyError, ValueError, IndexError) as e:\n",
    "        print(f\"Error extracting EPS data for {company}: {e}\")\n",
    "        eps_current_year, eps_next_year = None, None\n",
    "    current_year_suffix = str(current_year)[-2:]\n",
    "    next_year_suffix = str(current_year + 1)[-2:]\n",
    "    return {\n",
    "        f\"eps_{current_year_suffix}\" : eps_current_year,\n",
    "        f\"eps_{next_year_suffix}\" : eps_next_year,\n",
    "        \"past_eps_growth\" : eps_growth\n",
    "    }\n"
   ]
  },
  {
   "cell_type": "code",
   "execution_count": 235,
   "metadata": {},
   "outputs": [
    {
     "name": "stdout",
     "output_type": "stream",
     "text": [
      "eps_past_year: 3.08\n",
      "eps_past_year_5: -10.72\n"
     ]
    },
    {
     "data": {
      "text/plain": [
       "{'eps_25': 5.77, 'eps_26': 7.44, 'past_eps_growth': None}"
      ]
     },
     "execution_count": 235,
     "metadata": {},
     "output_type": "execute_result"
    }
   ],
   "source": [
    "get_eps_forecast('ALK')  # Example usage"
   ]
  },
  {
   "cell_type": "code",
   "execution_count": 241,
   "metadata": {},
   "outputs": [],
   "source": [
    "import requests\n",
    "from bs4 import BeautifulSoup\n",
    "import re\n",
    "\n",
    "def extract_percentage(text):\n",
    "    \"\"\"\n",
    "    Extracts percentage value from text and converts to float.\n",
    "    \n",
    "    Args:\n",
    "        text (str): Text containing percentage\n",
    "        \n",
    "    Returns:\n",
    "        float: Percentage value as float, or None if not found\n",
    "    \"\"\"\n",
    "    if not text:\n",
    "        return None\n",
    "    match = re.search(r'([-+]?\\d*\\.?\\d+)%', text)\n",
    "    if match:\n",
    "        return float(match.group(1))\n",
    "    return None\n",
    "\n",
    "def get_growth_forecasts(company):\n",
    "    \"\"\"\n",
    "    Retrieves 5-year growth forecasts from StockAnalysis.com.\n",
    "    \n",
    "    Args:\n",
    "        company (str): The stock ticker symbol\n",
    "        \n",
    "    Returns:\n",
    "        dict or None: Dictionary containing revenue and EPS growth forecasts\n",
    "    \"\"\"\n",
    "    url = f\"https://stockanalysis.com/stocks/{company}/statistics/\"\n",
    "    headers = {\n",
    "        'User-Agent': 'Mozilla/5.0 (Windows NT 10.0; Win64; x64) AppleWebKit/537.36 (KHTML, like Gecko) Chrome/91.0.4472.124 Safari/537.36',\n",
    "        'Accept': 'text/html,application/xhtml+xml,application/xml;q=0.9,image/webp,*/*;q=0.8'\n",
    "    }\n",
    "    \n",
    "    try:\n",
    "        response = fetch_url(url, headers)\n",
    "        if not response:\n",
    "            return None\n",
    "            \n",
    "        soup = parse_html(response.text)\n",
    "        \n",
    "        # Find growth forecast values\n",
    "        forecasts = {\n",
    "            'revenue_growth_5y': None,\n",
    "            'eps_growth_5y': None\n",
    "        }\n",
    "        \n",
    "        # Find elements containing the forecasts\n",
    "        for row in soup.find_all('tr'):\n",
    "            cells = row.find_all('td')\n",
    "            if not cells:\n",
    "                continue\n",
    "                \n",
    "            label_cell = cells[0].get_text(strip=True)\n",
    "            if 'Revenue Growth Forecast' in label_cell and '5Y' in label_cell:\n",
    "                forecasts['revenue_growth_5y'] = extract_percentage(cells[-1].get_text(strip=True))\n",
    "            elif 'EPS Growth Forecast' in label_cell and '5Y' in label_cell:\n",
    "                forecasts['eps_growth_5y'] = extract_percentage(cells[-1].get_text(strip=True))\n",
    "        \n",
    "        # Verify we found both metrics\n",
    "        if forecasts['revenue_growth_5y'] is None and forecasts['eps_growth_5y'] is None:\n",
    "            print(f\"No growth forecasts found for {company}\")\n",
    "            forecasts['revenue_growth_5y'] = 0\n",
    "            forecasts['eps_growth_5y'] = 0\n",
    "            \n",
    "        return forecasts\n",
    "        \n",
    "    except Exception as e:\n",
    "        print(f\"Error extracting growth forecasts: {e}\")\n",
    "        return None\n",
    "\n",
    "# # Example usage\n",
    "# def main():\n",
    "#     ticker = \"AMD\"\n",
    "#     forecasts = get_growth_forecasts(ticker)\n",
    "    \n",
    "#     if forecasts:\n",
    "#         print(f\"\\nGrowth Forecasts for {ticker}:\")\n",
    "#         print(f\"Revenue Growth (5Y): {forecasts['revenue_growth_5y']}%\")\n",
    "#         print(f\"EPS Growth (5Y): {forecasts['eps_growth_5y']}%\")\n",
    "#         return forecasts\n",
    "#     return None\n",
    "\n",
    "# if __name__ == \"__main__\":\n",
    "#     main()"
   ]
  },
  {
   "cell_type": "code",
   "execution_count": 242,
   "metadata": {},
   "outputs": [
    {
     "name": "stdout",
     "output_type": "stream",
     "text": [
      "No growth forecasts found for ALK\n"
     ]
    },
    {
     "data": {
      "text/plain": [
       "{'revenue_growth_5y': 0, 'eps_growth_5y': 0}"
      ]
     },
     "execution_count": 242,
     "metadata": {},
     "output_type": "execute_result"
    }
   ],
   "source": [
    "get_growth_forecasts('ALK')  # Example usage"
   ]
  },
  {
   "cell_type": "code",
   "execution_count": 22,
   "metadata": {},
   "outputs": [
    {
     "name": "stdout",
     "output_type": "stream",
     "text": [
      "Forward P/E Ratio: 28.715042\n",
      "Price-to-Book Ratio: 63.07141\n",
      "Debt-to-Equity Ratio: 209.059\n",
      "Return on Equity: 1.5741299\n"
     ]
    }
   ],
   "source": [
    "import yfinance as yf\n",
    "\n",
    "# Define the stock ticker\n",
    "ticker = yf.Ticker(\"AAPL\")\n",
    "# Accessing various financial ratios\n",
    "pe_ratio = ticker.info['forwardPE']  # Forward P/E ratio\n",
    "pb_ratio = ticker.info['priceToBook']  # Price-to-Book ratio\n",
    "de_ratio = ticker.info['debtToEquity']  # Debt-to-Equity ratio\n",
    "roe = ticker.info['returnOnEquity']  # Return on Equity\n",
    "\n",
    "# Print the results\n",
    "print(f\"Forward P/E Ratio: {pe_ratio}\")\n",
    "print(f\"Price-to-Book Ratio: {pb_ratio}\")\n",
    "print(f\"Debt-to-Equity Ratio: {de_ratio}\")\n",
    "print(f\"Return on Equity: {roe}\")\n"
   ]
  },
  {
   "cell_type": "code",
   "execution_count": 190,
   "metadata": {},
   "outputs": [],
   "source": [
    "import yfinance as yf\n",
    "def get_market_cap_and_price(ticker):\n",
    "    \"\"\"\n",
    "    Retrieves the market capitalization and current price for a given stock ticker.\n",
    "\n",
    "    Args:\n",
    "        ticker (str): The stock ticker symbol.\n",
    "\n",
    "    Returns:\n",
    "        tuple: A tuple containing the market capitalization and current price, or None if failed.\n",
    "    \"\"\"\n",
    "    try:\n",
    "        stock = yf.Ticker(ticker)\n",
    "        \n",
    "        market_cap = round(int(stock.info['marketCap'])/1000000000, 2) if 'marketCap' in stock.info else \"NA\"\n",
    "        current_price = stock.info['currentPrice'] if 'currentPrice' in stock.info else \"NA\"\n",
    "        beta_value = stock.info['beta'] if 'beta' in stock.info else \"NA\"\n",
    "    \n",
    "        return {\n",
    "            'ticker': ticker,\n",
    "            '市值': str(market_cap)+\"B\",\n",
    "            '股價': current_price,\n",
    "            'Beta': (beta_value)\n",
    "        }\n",
    "    except Exception as e:\n",
    "        print(f\"Error retrieving data for {ticker}: {e}\")\n",
    "        return None\n"
   ]
  },
  {
   "cell_type": "code",
   "execution_count": 108,
   "metadata": {},
   "outputs": [
    {
     "data": {
      "text/plain": [
       "{'市值': '64.6B', '股價': 13.44, 'Beta': 'NA'}"
      ]
     },
     "execution_count": 108,
     "metadata": {},
     "output_type": "execute_result"
    }
   ],
   "source": [
    "get_market_cap_and_price('NU')  # Example usage"
   ]
  },
  {
   "cell_type": "code",
   "execution_count": 218,
   "metadata": {},
   "outputs": [
    {
     "data": {
      "text/plain": [
       "{'ticker': 'BA',\n",
       " '市值': '134.51B',\n",
       " '股價': 179.53,\n",
       " 'Beta': 1.572,\n",
       " 'eps_25': 0.22,\n",
       " 'eps_26': 4.78,\n",
       " 'past_eps_growth': -4.45,\n",
       " 'revenue_growth_5y': 10.75,\n",
       " 'eps_growth_5y': None}"
      ]
     },
     "execution_count": 218,
     "metadata": {},
     "output_type": "execute_result"
    }
   ],
   "source": [
    "ticker = 'BA'\n",
    "eps_data = get_eps_forecast(ticker)\n",
    "growth_data = get_growth_forecasts(ticker)\n",
    "stock_data = get_market_cap_and_price(ticker)\n",
    "stock_data.update(eps_data)\n",
    "stock_data.update(growth_data)\n",
    "stock_data"
   ]
  },
  {
   "cell_type": "code",
   "execution_count": 169,
   "metadata": {},
   "outputs": [
    {
     "data": {
      "text/plain": [
       "{'市值': '3572.85B',\n",
       " '股價': 237.59,\n",
       " 'Beta': 1.24,\n",
       " 'eps_25': 7.51,\n",
       " 'eps_26': 8.41,\n",
       " 'past_eps_growth': 13.14,\n",
       " 'revenue_growth_5y': 7.85,\n",
       " 'eps_growth_5y': 18.45}"
      ]
     },
     "execution_count": 169,
     "metadata": {},
     "output_type": "execute_result"
    }
   ],
   "source": [
    "stock_data"
   ]
  },
  {
   "cell_type": "code",
   "execution_count": 178,
   "metadata": {},
   "outputs": [],
   "source": [
    "TICKER_TO_COMPANY: Dict[str, str] = {\n",
    "    # 大科技\n",
    "    \"goog\": \"alphabet\",\n",
    "    \"meta\": \"meta-platforms\",\n",
    "    \"amzn\": \"amazon\",\n",
    "    \"nflx\": \"netflix\",\n",
    "    \"aapl\": \"apple\",\n",
    "    \"msft\": \"microsoft\",\n",
    "    \"tsla\": \"tesla\",\n",
    "    \"adbe\": \"adobe\",\n",
    "\n",
    "    # 航空郵輪\n",
    "    \"aal\": \"american-airlines\",\n",
    "    \"luv\": \"southwest-airlines\",\n",
    "    \"dal\": \"delta-air-lines\",\n",
    "    \"ual\": \"united-airlines\",\n",
    "    \"alk\": \"alaska-air-group\",\n",
    "    \"ba\": \"boeing\",\n",
    "    \"eadsy\": \"airbus\",\n",
    "    \"ccl\": \"carnival\",\n",
    "    \"rcl\": \"royal-caribbean\",\n",
    "\n",
    "    # 銀行\n",
    "    \"bac\": \"bank-of-america\",\n",
    "    \"jpm\": \"jpmorgan-chase\",\n",
    "    \"gs\": \"goldman-sachs\",\n",
    "    \"c\": \"citigroup\",\n",
    "    \"wfc\": \"wells-fargo\",\n",
    "    \"blk\": \"blackrock\",\n",
    "    \"nu\": \"nu-holdings\",\n",
    "    \"sofi\": \"sofi\",\n",
    "\n",
    "    # 傳統\n",
    "    \"dis\": \"walt-disney\",\n",
    "    \"isrg\": \"intuitive-surgical\",\n",
    "    \"unh\": \"unitedhealth-group\",\n",
    "    \"abbv\": \"abbvie\",\n",
    "    \"cvs\": \"cvs-health\",\n",
    "    \"trv\": \"the-travelers-companies\",\n",
    "\n",
    "    # 支付\n",
    "    \"ma\": \"mastercard\",\n",
    "    \"v\": \"visa\",\n",
    "    \"pypl\": \"paypal\",\n",
    "    \"axp\": \"american-express\",\n",
    "\n",
    "    # 零售\n",
    "    \"lulu\": \"lululemon-athletica\",\n",
    "    \"gps\": \"gap\",\n",
    "    \"cost\": \"costco-wholesale\",\n",
    "    \"pg\": \"procter-&-gamble\",\n",
    "    \"kr\": \"kroger\",\n",
    "    \"jwn\": \"nordstrom\",\n",
    "    \"nke\": \"nike\",\n",
    "    \"dg\": \"dollar-general\",\n",
    "    \"fl\": \"foot-locker\",\n",
    "    \"lvmhf\": \"lvmh\",\n",
    "    \"el\": \"estée-lauder\",\n",
    "    \"pvh\": \"pvh-corp.\",\n",
    "    \"tpr\": \"tapestry\",\n",
    "\n",
    "    # 食品\n",
    "    \"tsn\": \"tyson-foods\",\n",
    "    \"mcd\": \"mcdonald's\",\n",
    "    \"sbux\": \"starbucks\",\n",
    "    \"ko\": \"coca-cola\",\n",
    "    \"pep\": \"pepsi-co\",\n",
    "    \"cmg\": \"chipotle-mexican-grill\",\n",
    "    \"yum\": \"yum!-brands\",\n",
    "    \"dpz\": \"domino's-pizza\",\n",
    "    \"cake\": \"the-cheesecake-factory\",\n",
    "    \"jack\": \"jack-in-the-box\",\n",
    "    \"play\": \"dave-&-busters\",\n",
    "    \"fizz\": \"national-beverage\",\n",
    "    \"blmn\": \"bloomin'-brands\",\n",
    "    \"denn\": \"denny's\",\n",
    "    \"din\": \"dine-brands-global\",\n",
    "\n",
    "    # 半導體\n",
    "    \"nvda\": \"nvidia\",\n",
    "    \"tsm\": \"taiwan-semiconductor-(tsmc)\",\n",
    "    \"amd\": \"advanced-micro-devices\",\n",
    "    \"qcom\": \"qualcomm\",\n",
    "    \"mu\": \"micron-technology\",\n",
    "    \"intc\": \"intel\",\n",
    "    \"asml\": \"asml-holding\",\n",
    "    \"swks\": \"skyworks-solutions\",\n",
    "    \"qrvo\": \"qorvo\",\n",
    "    \"avgo\": \"broadcom\",\n",
    "    \"amat\": \"applied-materials\",\n",
    "    \"mrvl\": \"marvell-technology\",\n",
    "    \"arm\": \"arm-holdings\",\n",
    "    \"cls\": \"celestica\",\n",
    "    \"dell\": \"dell-technologies\",\n",
    "    \"hpe\": \"hewlett-packard-enterprise\",\n",
    "\n",
    "    # 原油\n",
    "    \"cvx\": \"chevron\",\n",
    "    \"vlo\": \"valero-energy\",\n",
    "    \"cop\": \"conocophillips\",\n",
    "    \"xom\": \"exxon-mobil\",\n",
    "    \"oxy\": \"occidental-petroleum\",\n",
    "    \"cpe\": \"callon-petroleum\",\n",
    "    \"enb\": \"enbridge\",\n",
    "\n",
    "    # 旅遊\n",
    "    \"bkng\": \"booking-holdings\",\n",
    "    \"expe\": \"expedia-group\",\n",
    "    \"mar\": \"marriott-international\",\n",
    "    \"hlt\": \"hilton-worldwide\",\n",
    "    \"abnb\": \"airbnb\",\n",
    "    \"h\": \"hyatt-hotels\",\n",
    "    \"wynn\": \"wynn-resorts\",\n",
    "    \"ihg\": \"intercontinental-hotels\",\n",
    "    \"lvs\": \"las-vegas-sands\",\n",
    "    \"mgm\": \"mgm-resorts\",\n",
    "\n",
    "    # 工業\n",
    "    \"nee\": \"nextera-energy\",\n",
    "    \"de\": \"deere-&-company\",\n",
    "    \"hd\": \"home-depot\",\n",
    "    \"apd\": \"air-products-&-chemicals\",\n",
    "    \"cat\": \"caterpillar\",\n",
    "    \"etn\": \"eaton-corporation\",\n",
    "    \"hon\": \"honeywell\",\n",
    "    \"wm\": \"waste-management\",\n",
    "    \"ge\": \"general-electric\",\n",
    "    \"mmm\": \"3m-company\",\n",
    "    \"sum\": \"summit-materials\",\n",
    "    \"x\": \"u.s.-steel\",\n",
    "    \"enph\": \"enphase-energy\",\n",
    "    \"sedg\": \"solaredge\",\n",
    "    \"fslr\": \"first-solar\",\n",
    "\n",
    "    # SaaS\n",
    "    \"sap\": \"sap-se\",           # Ticker is sometimes just 'sap'\n",
    "    \"cflt\": \"confluent\",\n",
    "    \"acn\": \"accenture\",\n",
    "    \"bsx\": \"boston-scientific\",\n",
    "    \"shop\": \"shopify\",\n",
    "    \"crm\": \"salesforce\",\n",
    "    \"ddog\": \"datadog\",\n",
    "    \"now\": \"servicenow\",\n",
    "    \"intu\": \"intuit\",\n",
    "    \"sq\": \"block-(square)\",\n",
    "    \"wdays\": \"workday\",\n",
    "    \"snow\": \"snowflake\",\n",
    "    \"mdb\": \"mongodb\",\n",
    "    \"okta\": \"okta\",\n",
    "    \"adsk\": \"autodesk\",\n",
    "    \"ttd\": \"the-trade-desk\",\n",
    "}\n"
   ]
  },
  {
   "cell_type": "code",
   "execution_count": 181,
   "metadata": {},
   "outputs": [],
   "source": [
    "def parse_pe_ratios(ticker: str) -> List[float]:\n",
    "    \"\"\"\n",
    "    Parse PE ratios from the given HTML content.\n",
    "\n",
    "    Args:\n",
    "        html_content (str): HTML content of the webpage.\n",
    "\n",
    "    Returns:\n",
    "        List[float]: List of PE ratios extracted.\n",
    "    \"\"\"\n",
    "    company = TICKER_TO_COMPANY.get(ticker.lower())\n",
    "    url = f\"https://www.macrotrends.net/stocks/charts/{ticker.upper()}/{company}/pe-ratio\"\n",
    "    headers = {\n",
    "        'User-Agent': 'Mozilla/5.0 (Windows NT 10.0; Win64; x64) AppleWebKit/537.36 (KHTML, like Gecko) Chrome/91.0.4472.124 Safari/537.36',\n",
    "        'Accept': 'text/html,application/xhtml+xml,application/xml;q=0.9,image/webp,*/*;q=0.8'\n",
    "    }\n",
    "    \n",
    "    try:\n",
    "        response = fetch_url(url, headers)\n",
    "        if not response:\n",
    "            return None\n",
    "            \n",
    "        soup = BeautifulSoup(response.text, 'html.parser')\n",
    "        table = soup.find(\"table\", class_=\"table\")\n",
    "\n",
    "        if not table:\n",
    "            print(\"PE ratio table not found in the HTML content.\")\n",
    "            return []\n",
    "\n",
    "        rows = table.find(\"tbody\").find_all(\"tr\")\n",
    "        pe_ratios = []\n",
    "\n",
    "        for row in rows:\n",
    "            cells = row.find_all(\"td\")\n",
    "            if len(cells) >= 4:\n",
    "                pe_ratio_str = cells[3].get_text(strip=True)\n",
    "                # Handle cases like 'N/A' or empty strings\n",
    "                try:\n",
    "                    pe_ratio = float(pe_ratio_str.replace(\",\", \"\"))\n",
    "                    pe_ratios.append(pe_ratio)\n",
    "                except ValueError:\n",
    "                    # Skip invalid PE ratio values\n",
    "                    continue\n",
    "\n",
    "        return pe_ratios\n",
    "    except Exception as e:\n",
    "        print(f\"Error extracting growth forecasts: {e}\")\n",
    "        return None"
   ]
  },
  {
   "cell_type": "code",
   "execution_count": 183,
   "metadata": {},
   "outputs": [],
   "source": [
    "# -------------------------------\n",
    "# Statistical Computations\n",
    "# -------------------------------\n",
    "\n",
    "def compute_iqr_statistics(pe_array: np.ndarray) -> Tuple[float, float, float]:\n",
    "    \"\"\"\n",
    "    Compute Q1, Q3, and IQR for the given PE ratios.\n",
    "\n",
    "    Args:\n",
    "        pe_array (np.ndarray): Array of PE ratios.\n",
    "\n",
    "    Returns:\n",
    "        Tuple[float, float, float]: Q1, Q3, and IQR values.\n",
    "    \"\"\"\n",
    "    q1 = np.percentile(pe_array, 25)\n",
    "    q3 = np.percentile(pe_array, 75)\n",
    "    iqr = q3 - q1\n",
    "    return q1, q3, iqr\n",
    "\n",
    "def filter_outliers(pe_array: np.ndarray, q1: float, q3: float, iqr: float) -> np.ndarray:\n",
    "    \"\"\"\n",
    "    Filter out outliers based on IQR.\n",
    "\n",
    "    Args:\n",
    "        pe_array (np.ndarray): Array of PE ratios.\n",
    "        q1 (float): First quartile.\n",
    "        q3 (float): Third quartile.\n",
    "        iqr (float): Interquartile range.\n",
    "\n",
    "    Returns:\n",
    "        np.ndarray: Filtered array without outliers.\n",
    "    \"\"\"\n",
    "    lower_bound = q1 - 1.5 * iqr\n",
    "    upper_bound = q3 + 1.5 * iqr\n",
    "    return pe_array[(pe_array >= lower_bound) & (pe_array <= upper_bound)]"
   ]
  },
  {
   "cell_type": "code",
   "execution_count": 186,
   "metadata": {},
   "outputs": [],
   "source": [
    "def analyze_pe_ratios(pe_ratios: List[float], num_latest: int = 20) -> Tuple[Optional[float], Optional[float]]:\n",
    "    \"\"\"\n",
    "    Analyze PE ratios by computing mean before and after outlier removal.\n",
    "\n",
    "    Args:\n",
    "        pe_ratios (List[float]): List of PE ratios.\n",
    "        num_latest (int): Number of latest PE ratios to consider.\n",
    "\n",
    "    Returns:\n",
    "        Tuple[Optional[float], Optional[float]]: Mean PE after outlier removal and original mean.\n",
    "    \"\"\"\n",
    "    if not pe_ratios:\n",
    "        return None, None\n",
    "\n",
    "    # Consider the latest `num_latest` PE ratios\n",
    "    latest_pe_ratios = pe_ratios[:num_latest]\n",
    "    pe_array = np.array(latest_pe_ratios)\n",
    "\n",
    "    # Compute IQR statistics\n",
    "    q1, q3, iqr = compute_iqr_statistics(pe_array)\n",
    "    filtered_pe = filter_outliers(pe_array, q1, q3, iqr)\n",
    "\n",
    "    # Compute means\n",
    "    if filtered_pe.size > 0:\n",
    "        median_filtered_pe = np.median(filtered_pe)\n",
    "        return median_filtered_pe\n",
    "    else:\n",
    "        return np.median(pe_array)"
   ]
  },
  {
   "cell_type": "code",
   "execution_count": 187,
   "metadata": {},
   "outputs": [
    {
     "data": {
      "text/plain": [
       "27.775"
      ]
     },
     "execution_count": 187,
     "metadata": {},
     "output_type": "execute_result"
    }
   ],
   "source": [
    "analyze_pe_ratios(parse_pe_ratios('AAPL'))"
   ]
  },
  {
   "cell_type": "code",
   "execution_count": 238,
   "metadata": {},
   "outputs": [],
   "source": [
    "def calculate_valuations(stock_data, current_year):\n",
    "    \"\"\"\n",
    "    Calculates various valuations and differences based on stock data.\n",
    "\n",
    "    Args:\n",
    "        stock_data (dict): Contains 'eps_2025', 'eps_2026', '市值', '股價'.\n",
    "        growth_data (dict): Contains '前五年' and '後五年' growth rates.\n",
    "        pe_median (float): The five-year median PE ratio.\n",
    "        current_year (int): The current year (e.g., 2025).\n",
    "\n",
    "    Returns:\n",
    "        dict: Calculated valuations and differences.\n",
    "    \"\"\"\n",
    "    valuations = {}\n",
    "    # Derive suffixes\n",
    "    current_year_suffix = str(current_year)[-2:]\n",
    "    next_year_suffix = str(current_year + 1)[-2:]\n",
    "\n",
    "    growth = stock_data.get('eps_growth_5y', 0)\n",
    "    if growth == None:\n",
    "        growth = 0\n",
    "    print(\"growth: \",growth)\n",
    "    valuations['預估PE'] = growth \n",
    "    if 0 < growth < 5:\n",
    "        valuations['預估PE'] *= 0.8\n",
    "    elif 5 <= growth < 10:\n",
    "        valuations['預估PE'] *= 1.0\n",
    "    elif 10 <= growth < 15:\n",
    "        valuations['預估PE'] *= 1.1\n",
    "    elif 15 <= growth < 20:\n",
    "        valuations['預估PE'] *= 1.2\n",
    "    elif 20 <= growth < 30:\n",
    "        valuations['預估PE'] *= 1.5\n",
    "    else:\n",
    "        valuations['預估PE'] *= 2.0\n",
    "    valuations['預估PE'] = round(valuations['預估PE'], 2)\n",
    "    print('after growth: ', valuations['預估PE'])\n",
    "    # Calculate EPS and Reasonable Price for current and next year\n",
    "    valuations[f\"{current_year_suffix}年EPS\"] = stock_data.get(f'eps_{current_year_suffix}', 0)\n",
    "    valuations[f\"{current_year_suffix}年合理價\"] = round(valuations[f\"{current_year_suffix}年EPS\"] * valuations['預估PE'])\n",
    "\n",
    "    valuations[f\"{next_year_suffix}年EPS\"] = stock_data.get(f'eps_{next_year_suffix}', 0)\n",
    "    valuations[f\"{next_year_suffix}年合理價\"] = round(valuations[f\"{next_year_suffix}年EPS\"] * valuations['預估PE'])\n",
    "\n",
    "    # Five-year PE Median and Median Valuation\n",
    "    valuations[\"五年PE MEDIAN\"] = analyze_pe_ratios(parse_pe_ratios(stock_data['ticker']))\n",
    "    valuations[\"五年PE中位價\"] = round(valuations[\"五年PE MEDIAN\"] * valuations[f\"{current_year_suffix}年EPS\"])\n",
    "\n",
    "    # Valuation Comparison for Current Year\n",
    "    if stock_data.get('股價', 0) > valuations[\"五年PE中位價\"]:\n",
    "        valuations[f\"{current_year_suffix}年估值\"] = \"高估\"\n",
    "    else:\n",
    "        valuations[f\"{current_year_suffix}年估值\"] = \"低估\"\n",
    "\n",
    "    if valuations[\"五年PE中位價\"] != 0:\n",
    "        valuations[f\"{current_year_suffix}年相差百分比\"] = f\"{round(100 * (valuations['五年PE中位價'] - stock_data.get('股價', 0)) / valuations['五年PE中位價'])}%\"\n",
    "    else:\n",
    "        valuations[f\"{current_year_suffix}年相差百分比\"] = \"N/A\"\n",
    "\n",
    "    # Five-year PE Median Valuation for Next Year\n",
    "    valuations[f\"{next_year_suffix}年PE中位價\"] = round(valuations[\"五年PE MEDIAN\"] * valuations[f\"{next_year_suffix}年EPS\"])\n",
    "\n",
    "    # Valuation Comparison for Next Year\n",
    "    if stock_data.get('股價', 0) > valuations[f\"{next_year_suffix}年PE中位價\"]:\n",
    "        valuations[f\"{next_year_suffix}年估值\"] = \"高估\"\n",
    "    else:\n",
    "        valuations[f\"{next_year_suffix}年估值\"] = \"低估\"\n",
    "\n",
    "    if valuations[f\"{next_year_suffix}年PE中位價\"] != 0:\n",
    "        valuations[f\"{next_year_suffix}年相差百分比\"] = f\"{round(100 * (valuations[f'{next_year_suffix}年PE中位價'] - stock_data.get('股價', 0)) / valuations[f'{next_year_suffix}年PE中位價'])}%\"\n",
    "    else:\n",
    "        valuations[f\"{next_year_suffix}年相差百分比\"] = \"N/A\"\n",
    "\n",
    "    return valuations\n"
   ]
  },
  {
   "cell_type": "code",
   "execution_count": 207,
   "metadata": {},
   "outputs": [
    {
     "data": {
      "text/plain": [
       "{'預估PE': 33.51,\n",
       " '25年EPS': 20.85,\n",
       " '25年合理價': 699,\n",
       " '26年EPS': 23.59,\n",
       " '26年合理價': 791,\n",
       " '五年PE MEDIAN': 43.93,\n",
       " '五年PE中位價': 916,\n",
       " '25年估值': '低估',\n",
       " '25年相差百分比': '51%',\n",
       " '26年PE中位價': 1036,\n",
       " '26年估值': '低估',\n",
       " '26年相差百分比': '57%'}"
      ]
     },
     "execution_count": 207,
     "metadata": {},
     "output_type": "execute_result"
    }
   ],
   "source": [
    "valuations = calculate_valuations(stock_data, 2025)\n",
    "valuations"
   ]
  },
  {
   "cell_type": "code",
   "execution_count": 78,
   "metadata": {},
   "outputs": [],
   "source": [
    "current_year = 2025\n",
    "current_year_suffix = str(current_year)[-2:]\n",
    "next_year_suffix = str(current_year + 1)[-2:]"
   ]
  },
  {
   "cell_type": "code",
   "execution_count": 213,
   "metadata": {},
   "outputs": [],
   "source": [
    "def process_company(company, current_year=2025):\n",
    "    \"\"\"\n",
    "    Processes data for a single company.\n",
    "\n",
    "    Args:\n",
    "        company (str): The stock ticker symbol.\n",
    "        current_year_suffix (str): Last two digits of the current year.\n",
    "        next_year_suffix (str): Last two digits of the next year.\n",
    "\n",
    "    Returns:\n",
    "        dict or None: Dictionary containing all required data, or None if failed.\n",
    "    \"\"\"\n",
    "    current_year_suffix = str(current_year)[-2:]\n",
    "    next_year_suffix = str(current_year + 1)[-2:]\n",
    "    # Fetch data from various sources\n",
    "    eps_forecast = get_eps_forecast(company)\n",
    "    growth_data = get_growth_forecasts(company)\n",
    "    if not eps_forecast:\n",
    "        return None\n",
    "    pe_median = analyze_pe_ratios(parse_pe_ratios(company))\n",
    "    print(pe_median)\n",
    "    stock_data = get_market_cap_and_price(company)\n",
    "    if not stock_data:\n",
    "        return None\n",
    "    stock_data.update(eps_forecast)\n",
    "    stock_data.update(growth_data)\n",
    "    # Perform calculations\n",
    "    valuations = calculate_valuations(\n",
    "        stock_data=stock_data,\n",
    "        current_year= current_year\n",
    "    )\n",
    "    print(valuations)\n",
    "    # Compile all data into a single dictionary\n",
    "    company_data = {\n",
    "        \"Revenue Growth Forecast (5Y)\": str(stock_data.get(\"revenue_growth_5y\", 0))+\"%\",\n",
    "        \"EPS Growth Forecast (5Y)\": str(stock_data.get(\"eps_growth_5y\", 0))+\"%\",\n",
    "        \"EPS Growth Past 5 Years\": str(stock_data.get(\"past_eps_growth\", 0))+\"%\",\n",
    "        \"預估PE\": valuations.get(\"預估PE\", 0),\n",
    "        f\"{current_year_suffix}年EPS\": valuations.get(f\"{current_year_suffix}年EPS\", 0),\n",
    "        f\"{current_year_suffix}年合理價\": valuations.get(f\"{current_year_suffix}年合理價\", 0),\n",
    "        f\"{next_year_suffix}年EPS\": valuations.get(f\"{next_year_suffix}年EPS\", 0),\n",
    "        f\"{next_year_suffix}年合理價\": valuations.get(f\"{next_year_suffix}年合理價\", 0),\n",
    "        \"五年PEMEDIAN\": valuations.get(\"五年PE MEDIAN\", 0),\n",
    "        \"五年PE中位價\": valuations.get(\"五年PE中位價\", 0),\n",
    "        \"市值\": stock_data.get(\"市值\", \"N/A\"),\n",
    "        \"股價\": stock_data.get(\"股價\", 0),\n",
    "        f\"{current_year_suffix}年估值\": valuations.get(f\"{current_year_suffix}年估值\", \"N/A\"),\n",
    "        f\"{current_year_suffix}年相差百分比\": valuations.get(f\"{current_year_suffix}年相差百分比\", \"N/A\"),\n",
    "        f\"{next_year_suffix}年PE中位價\": valuations.get(f\"{next_year_suffix}年PE中位價\", 0),\n",
    "        f\"{next_year_suffix}年估值\": valuations.get(f\"{next_year_suffix}年估值\", \"N/A\"),\n",
    "        f\"{next_year_suffix}年相差百分比\": valuations.get(f\"{next_year_suffix}年相差百分比\", \"N/A\"),\n",
    "    }\n",
    "\n",
    "    return company_data\n"
   ]
  },
  {
   "cell_type": "code",
   "execution_count": 231,
   "metadata": {},
   "outputs": [
    {
     "ename": "TypeError",
     "evalue": "type complex doesn't define __round__ method",
     "output_type": "error",
     "traceback": [
      "\u001b[0;31m---------------------------------------------------------------------------\u001b[0m",
      "\u001b[0;31mTypeError\u001b[0m                                 Traceback (most recent call last)",
      "Cell \u001b[0;32mIn[231], line 1\u001b[0m\n\u001b[0;32m----> 1\u001b[0m \u001b[43mprocess_company\u001b[49m\u001b[43m(\u001b[49m\u001b[38;5;124;43m'\u001b[39;49m\u001b[38;5;124;43mALK\u001b[39;49m\u001b[38;5;124;43m'\u001b[39;49m\u001b[43m,\u001b[49m\u001b[43m \u001b[49m\u001b[38;5;241;43m2025\u001b[39;49m\u001b[43m)\u001b[49m  \u001b[38;5;66;03m# Example usage\u001b[39;00m\n",
      "Cell \u001b[0;32mIn[213], line 16\u001b[0m, in \u001b[0;36mprocess_company\u001b[0;34m(company, current_year)\u001b[0m\n\u001b[1;32m     14\u001b[0m next_year_suffix \u001b[38;5;241m=\u001b[39m \u001b[38;5;28mstr\u001b[39m(current_year \u001b[38;5;241m+\u001b[39m \u001b[38;5;241m1\u001b[39m)[\u001b[38;5;241m-\u001b[39m\u001b[38;5;241m2\u001b[39m:]\n\u001b[1;32m     15\u001b[0m \u001b[38;5;66;03m# Fetch data from various sources\u001b[39;00m\n\u001b[0;32m---> 16\u001b[0m eps_forecast \u001b[38;5;241m=\u001b[39m \u001b[43mget_eps_forecast\u001b[49m\u001b[43m(\u001b[49m\u001b[43mcompany\u001b[49m\u001b[43m)\u001b[49m\n\u001b[1;32m     17\u001b[0m growth_data \u001b[38;5;241m=\u001b[39m get_growth_forecasts(company)\n\u001b[1;32m     18\u001b[0m \u001b[38;5;28;01mif\u001b[39;00m \u001b[38;5;129;01mnot\u001b[39;00m eps_forecast:\n",
      "Cell \u001b[0;32mIn[203], line 52\u001b[0m, in \u001b[0;36mget_eps_forecast\u001b[0;34m(company, current_year)\u001b[0m\n\u001b[1;32m     50\u001b[0m     eps_past_year \u001b[38;5;241m=\u001b[39m \u001b[38;5;28mfloat\u001b[39m(eps_row[\u001b[38;5;28mstr\u001b[39m(current_year\u001b[38;5;241m-\u001b[39m\u001b[38;5;241m1\u001b[39m)]\u001b[38;5;241m.\u001b[39mvalues[\u001b[38;5;241m0\u001b[39m]) \u001b[38;5;28;01mif\u001b[39;00m \u001b[38;5;129;01mnot\u001b[39;00m eps_row\u001b[38;5;241m.\u001b[39mempty \u001b[38;5;129;01mand\u001b[39;00m \u001b[38;5;28mstr\u001b[39m(current_year\u001b[38;5;241m+\u001b[39m\u001b[38;5;241m1\u001b[39m) \u001b[38;5;129;01min\u001b[39;00m df\u001b[38;5;241m.\u001b[39mcolumns \u001b[38;5;28;01melse\u001b[39;00m \u001b[38;5;28;01mNone\u001b[39;00m\n\u001b[1;32m     51\u001b[0m     eps_past_year_5 \u001b[38;5;241m=\u001b[39m \u001b[38;5;28mfloat\u001b[39m(eps_row[\u001b[38;5;28mstr\u001b[39m(current_year\u001b[38;5;241m-\u001b[39m\u001b[38;5;241m5\u001b[39m)]\u001b[38;5;241m.\u001b[39mvalues[\u001b[38;5;241m0\u001b[39m]) \u001b[38;5;28;01mif\u001b[39;00m \u001b[38;5;129;01mnot\u001b[39;00m eps_row\u001b[38;5;241m.\u001b[39mempty \u001b[38;5;129;01mand\u001b[39;00m \u001b[38;5;28mstr\u001b[39m(current_year\u001b[38;5;241m+\u001b[39m\u001b[38;5;241m1\u001b[39m) \u001b[38;5;129;01min\u001b[39;00m df\u001b[38;5;241m.\u001b[39mcolumns \u001b[38;5;28;01melse\u001b[39;00m \u001b[38;5;28;01mNone\u001b[39;00m\n\u001b[0;32m---> 52\u001b[0m     eps_growth \u001b[38;5;241m=\u001b[39m \u001b[38;5;28;43mround\u001b[39;49m\u001b[43m(\u001b[49m\u001b[43m(\u001b[49m\u001b[43m(\u001b[49m\u001b[43meps_past_year\u001b[49m\u001b[43m \u001b[49m\u001b[38;5;241;43m/\u001b[39;49m\u001b[43m \u001b[49m\u001b[43meps_past_year_5\u001b[49m\u001b[43m)\u001b[49m\u001b[43m \u001b[49m\u001b[38;5;241;43m*\u001b[39;49m\u001b[38;5;241;43m*\u001b[39;49m\u001b[43m \u001b[49m\u001b[43m(\u001b[49m\u001b[38;5;241;43m1\u001b[39;49m\u001b[43m \u001b[49m\u001b[38;5;241;43m/\u001b[39;49m\u001b[43m \u001b[49m\u001b[38;5;241;43m5\u001b[39;49m\u001b[43m)\u001b[49m\u001b[43m \u001b[49m\u001b[38;5;241;43m-\u001b[39;49m\u001b[43m \u001b[49m\u001b[38;5;241;43m1\u001b[39;49m\u001b[43m)\u001b[49m\u001b[43m \u001b[49m\u001b[38;5;241;43m*\u001b[39;49m\u001b[43m \u001b[49m\u001b[38;5;241;43m100\u001b[39;49m\u001b[43m,\u001b[49m\u001b[43m \u001b[49m\u001b[38;5;241;43m2\u001b[39;49m\u001b[43m)\u001b[49m \u001b[38;5;28;01mif\u001b[39;00m eps_past_year_5 \u001b[38;5;28;01melse\u001b[39;00m \u001b[38;5;28;01mNone\u001b[39;00m\n\u001b[1;32m     53\u001b[0m     \u001b[38;5;66;03m# print('eps growth:', eps_growth)\u001b[39;00m\n\u001b[1;32m     54\u001b[0m \u001b[38;5;28;01mexcept\u001b[39;00m (\u001b[38;5;167;01mKeyError\u001b[39;00m, \u001b[38;5;167;01mValueError\u001b[39;00m, \u001b[38;5;167;01mIndexError\u001b[39;00m) \u001b[38;5;28;01mas\u001b[39;00m e:\n",
      "\u001b[0;31mTypeError\u001b[0m: type complex doesn't define __round__ method"
     ]
    }
   ],
   "source": [
    "process_company('ALK', 2025)  # Example usage"
   ]
  },
  {
   "cell_type": "code",
   "execution_count": 96,
   "metadata": {},
   "outputs": [],
   "source": [
    "def process_industry(industry, companies, current_year, col, ind):\n",
    "    \"\"\"\n",
    "    Processes all companies within a specific industry.\n",
    "\n",
    "    Args:\n",
    "        industry (str): The industry name.\n",
    "        companies (set): A set of company ticker symbols.\n",
    "        current_year_suffix (str): Last two digits of the current year.\n",
    "        next_year_suffix (str): Last two digits of the next year.\n",
    "        col (list): Column names.\n",
    "        ind (list): Indices for the DataFrame.\n",
    "\n",
    "    Returns:\n",
    "        pd.DataFrame: DataFrame containing processed data for all companies in the industry.\n",
    "    \"\"\"\n",
    "    # Initialize DataFrame with predefined columns\n",
    "    ser = pd.Series(col, index=ind)\n",
    "    industry_df = pd.DataFrame(columns=[\"股票代號\"] + [company for company in companies])\n",
    "    industry_df[\"股票代號\"] = ser\n",
    "\n",
    "    for company in companies:\n",
    "        print(f\"Processing company: {company}\")\n",
    "        company_data = process_company(company, current_year_suffix, next_year_suffix)\n",
    "        if not company_data:\n",
    "            print(f\"Skipping company {company} due to incomplete data.\")\n",
    "            continue\n",
    "\n",
    "        # Convert company_data dict to DataFrame\n",
    "        stock_df = pd.DataFrame(company_data, index=[0]).T\n",
    "        stock_df = stock_df.rename(columns={0: company})\n",
    "        stock_df.index.name = \"股票代號\"\n",
    "\n",
    "        # Merge with industry DataFrame\n",
    "        industry_df = pd.concat([industry_df, stock_df], axis=1)\n",
    "\n",
    "    return industry_df\n"
   ]
  },
  {
   "cell_type": "code",
   "execution_count": 245,
   "metadata": {},
   "outputs": [],
   "source": [
    "stock_list = {\n",
    "        # \"大科技\": {\"GOOG\", \"META\", \"AMZN\", \"NFLX\", \"AAPL\", \"MSFT\", \"TSLA\", \"ADBE\"},\n",
    "        # \"航空郵輪\": {\"AAL\", \"LUV\", \"DAL\", \"UAL\", \"ALK\", \"BA\", \"CCL\", \"RCL\"},\n",
    "        \n",
    "        # \"銀行\": {\"BAC\", \"JPM\", \"GS\", \"C\", \"WFC\", 'NU', 'SOFI'},\n",
    "        # \"傳統\": {\"DIS\", \"ISRG\", \"UNH\", \"ABBV\", \"CVS\", 'TRV'},\n",
    "        # \"支付\": {\"MA\", \"V\", \"PYPL\", \"AXP\"},\n",
    "        \"零售\": {\"LULU\", \"COST\", \"PG\", \"KR\", \"JWN\", \"NKE\", \"DG\", \"FL\", \"EL\", \"PVH\", \"TPR\"},\n",
    "        \"食品\": {\"TSN\", \"MCD\", \"SBUX\", \"KO\", \"PEP\", \"CMG\", \"YUM\", 'DPZ', 'CAKE', 'JACK', 'PLAY', 'FIZZ', 'BLMN', 'DENN', 'DIN'},\n",
    "        \"半導體\": {'NVDA', \"TSM\", \"AMD\", \"QCOM\", \"MU\", \"INTC\", \"ASML\", \"SWKS\", \"QRVO\", \"AVGO\", \"AMAT\", 'MRVL', 'ARM', 'CLS', 'DELL', 'HPE'},\n",
    "        \"原油\": {\"CVX\", \"VLO\", \"COP\", \"XOM\", \"OXY\", \"CPE\", \"ENB\"},\n",
    "        \"旅遊\": {\"BKNG\", \"EXPE\", \"MAR\", \"HLT\", \"ABNB\", \"H\", \"WYNN\", \"IHG\", \"LVS\", \"MGM\"},\n",
    "        \"工業\": {'NEE', \"DE\", \"HD\", \"APD\", \"CAT\", \"ETN\", \"HON\", \"WM\", \"GE\", \"MMM\", \"SUM\", \"X\", 'ENPH', 'SEDG', \"FSLR\"},\n",
    "        'SaaS': {'SAP', 'CFLT', 'ACN', 'BSX', 'SHOP', 'ADBE', 'CRM', 'DDOG', 'NOW', 'INTU', 'SQ', 'WDAY', 'SNOW', 'MDB', 'OKTA', 'ADSK', 'TTD'}\n",
    "    }\n",
    "\n",
    "# EADSY, BLK, \"LVMHF\", GPS"
   ]
  },
  {
   "cell_type": "code",
   "execution_count": 216,
   "metadata": {},
   "outputs": [],
   "source": [
    "def aggregate_company_data(stock_list, current_year=2025):\n",
    "    \"\"\"\n",
    "    將所有公司的數據聚合成一個字典，每個產業對應一個轉置後的DataFrame。\n",
    "\n",
    "    Args:\n",
    "        stock_list (dict): 以產業為鍵，股票代碼集合為值的字典。\n",
    "        current_year (int): 當前年份。\n",
    "\n",
    "    Returns:\n",
    "        dict: 以產業為鍵，轉置後的DataFrame為值的字典。\n",
    "    \"\"\"\n",
    "    industry_dataframes = {}\n",
    "\n",
    "    for industry, companies in stock_list.items():\n",
    "        print(f\"\\n正在處理產業：{industry}，包含 {len(companies)} 家公司。\")\n",
    "        all_companies_data = []\n",
    "        for company in tqdm(companies, desc=f\"處理 {industry}\", unit=\"公司\"):\n",
    "            print(f\"正在處理公司：{company}\")\n",
    "            company_data = process_company(company, current_year =current_year)\n",
    "            if company_data:\n",
    "                # 添加元數據\n",
    "                company_data['Industry'] = industry\n",
    "                company_data['Company'] = company\n",
    "                all_companies_data.append(company_data)\n",
    "            else:\n",
    "                print(f\"{company} 的數據處理失敗。\")\n",
    "            time.sleep(random.uniform(10, 30))  # 隨機等待時間\n",
    "            \n",
    "        if all_companies_data:\n",
    "            # 創建DataFrame\n",
    "            df = pd.DataFrame(all_companies_data)\n",
    "            # 添加Industry和Company列\n",
    "            df.insert(0, 'Industry', df.pop('Industry'))\n",
    "            df.insert(1, 'Company', df.pop('Company'))\n",
    "            # 轉置DataFrame\n",
    "            df_transposed = df.set_index(['Industry', 'Company']).transpose()\n",
    "            # 保存到字典\n",
    "            industry_dataframes[industry] = df_transposed\n",
    "        else:\n",
    "            print(f\"{industry} 沒有可用的公司數據。\")\n",
    "        \n",
    "\n",
    "    return industry_dataframes\n"
   ]
  },
  {
   "cell_type": "code",
   "execution_count": 246,
   "metadata": {},
   "outputs": [
    {
     "name": "stdout",
     "output_type": "stream",
     "text": [
      "\n",
      "正在處理產業：零售，包含 11 家公司。\n"
     ]
    },
    {
     "name": "stderr",
     "output_type": "stream",
     "text": [
      "處理 零售:   0%|          | 0/11 [00:00<?, ?公司/s]"
     ]
    },
    {
     "name": "stdout",
     "output_type": "stream",
     "text": [
      "正在處理公司：JWN\n",
      "eps_past_year: 0.82\n",
      "eps_past_year_5: 3.18\n",
      "10.22\n",
      "growth:  32.43\n",
      "after growth:  64.86\n",
      "{'預估PE': 64.86, '25年EPS': 1.98, '25年合理價': 128, '26年EPS': 2.04, '26年合理價': 132, '五年PE MEDIAN': 10.22, '五年PE中位價': 20, '25年估值': '高估', '25年相差百分比': '-21%', '26年PE中位價': 21, '26年估值': '高估', '26年相差百分比': '-15%'}\n"
     ]
    },
    {
     "name": "stderr",
     "output_type": "stream",
     "text": [
      "處理 零售:   9%|▉         | 1/11 [00:13<02:10, 13.01s/公司]"
     ]
    },
    {
     "name": "stdout",
     "output_type": "stream",
     "text": [
      "正在處理公司：PVH\n",
      "eps_past_year: 10.76\n",
      "eps_past_year_5: 5.6\n",
      "8.055\n",
      "growth:  13.04\n",
      "after growth:  14.34\n",
      "{'預估PE': 14.34, '25年EPS': 11.83, '25年合理價': 170, '26年EPS': 12.47, '26年合理價': 179, '五年PE MEDIAN': 8.055, '五年PE中位價': 95, '25年估值': '低估', '25年相差百分比': '2%', '26年PE中位價': 100, '26年估值': '低估', '26年相差百分比': '7%'}\n"
     ]
    },
    {
     "name": "stderr",
     "output_type": "stream",
     "text": [
      "處理 零售:  18%|█▊        | 2/11 [00:28<02:08, 14.26s/公司]"
     ]
    },
    {
     "name": "stdout",
     "output_type": "stream",
     "text": [
      "正在處理公司：TPR\n",
      "eps_past_year: 3.5\n",
      "eps_past_year_5: -2.34\n",
      "11.095\n",
      "growth:  7.17\n",
      "after growth:  7.17\n",
      "{'預估PE': 7.17, '25年EPS': 4.68, '25年合理價': 34, '26年EPS': 5.07, '26年合理價': 36, '五年PE MEDIAN': 11.095, '五年PE中位價': 52, '25年估值': '高估', '25年相差百分比': '-46%', '26年PE中位價': 56, '26年估值': '高估', '26年相差百分比': '-36%'}\n"
     ]
    },
    {
     "name": "stderr",
     "output_type": "stream",
     "text": [
      "處理 零售:  27%|██▋       | 3/11 [00:50<02:22, 17.83s/公司]"
     ]
    },
    {
     "name": "stdout",
     "output_type": "stream",
     "text": [
      "正在處理公司：COST\n",
      "eps_past_year: 16.56\n",
      "eps_past_year_5: 9.02\n",
      "38.480000000000004\n",
      "growth:  12.47\n",
      "after growth:  13.72\n",
      "{'預估PE': 13.72, '25年EPS': 18.58, '25年合理價': 255, '26年EPS': 20.35, '26年合理價': 279, '五年PE MEDIAN': 38.480000000000004, '五年PE中位價': 715, '25年估值': '高估', '25年相差百分比': '-37%', '26年PE中位價': 783, '26年估值': '高估', '26年相差百分比': '-25%'}\n"
     ]
    },
    {
     "name": "stderr",
     "output_type": "stream",
     "text": [
      "處理 零售:  36%|███▋      | 4/11 [01:17<02:30, 21.48s/公司]"
     ]
    },
    {
     "name": "stdout",
     "output_type": "stream",
     "text": [
      "正在處理公司：NKE\n",
      "eps_past_year: 3.73\n",
      "eps_past_year_5: 1.6\n",
      "30.78\n",
      "growth:  1.86\n",
      "after growth:  1.49\n",
      "{'預估PE': 1.49, '25年EPS': 2.76, '25年合理價': 4, '26年EPS': 3.18, '26年合理價': 5, '五年PE MEDIAN': 30.78, '五年PE中位價': 85, '25年估值': '低估', '25年相差百分比': '8%', '26年PE中位價': 98, '26年估值': '低估', '26年相差百分比': '20%'}\n"
     ]
    },
    {
     "name": "stderr",
     "output_type": "stream",
     "text": [
      "處理 零售:  45%|████▌     | 5/11 [01:43<02:19, 23.25s/公司]"
     ]
    },
    {
     "name": "stdout",
     "output_type": "stream",
     "text": [
      "正在處理公司：DG\n",
      "eps_past_year: 7.55\n",
      "eps_past_year_5: 6.64\n",
      "19.685000000000002\n",
      "growth:  7.72\n",
      "after growth:  7.72\n",
      "{'預估PE': 7.72, '25年EPS': 5.91, '25年合理價': 46, '26年EPS': 6.13, '26年合理價': 47, '五年PE MEDIAN': 19.685000000000002, '五年PE中位價': 116, '25年估值': '低估', '25年相差百分比': '38%', '26年PE中位價': 121, '26年估值': '低估', '26年相差百分比': '40%'}\n"
     ]
    },
    {
     "name": "stderr",
     "output_type": "stream",
     "text": [
      "處理 零售:  55%|█████▍    | 6/11 [01:59<01:44, 20.89s/公司]"
     ]
    },
    {
     "name": "stdout",
     "output_type": "stream",
     "text": [
      "正在處理公司：FL\n",
      "eps_past_year: -3.51\n",
      "eps_past_year_5: 4.5\n",
      "No growth forecasts found for FL\n",
      "6.125\n",
      "growth:  0\n",
      "after growth:  0.0\n",
      "{'預估PE': 0.0, '25年EPS': 1.26, '25年合理價': 0, '26年EPS': 1.85, '26年合理價': 0, '五年PE MEDIAN': 6.125, '五年PE中位價': 8, '25年估值': '高估', '25年相差百分比': '-151%', '26年PE中位價': 11, '26年估值': '高估', '26年相差百分比': '-82%'}\n"
     ]
    },
    {
     "name": "stderr",
     "output_type": "stream",
     "text": [
      "處理 零售:  64%|██████▎   | 7/11 [02:29<01:34, 23.65s/公司]"
     ]
    },
    {
     "name": "stdout",
     "output_type": "stream",
     "text": [
      "正在處理公司：LULU\n",
      "eps_past_year: 12.2\n",
      "eps_past_year_5: 4.93\n",
      "46.93\n",
      "growth:  14.1\n",
      "after growth:  15.51\n",
      "{'預估PE': 15.51, '25年EPS': 14.46, '25年合理價': 224, '26年EPS': 15.46, '26年合理價': 240, '五年PE MEDIAN': 46.93, '五年PE中位價': 679, '25年估值': '低估', '25年相差百分比': '38%', '26年PE中位價': 726, '26年估值': '低估', '26年相差百分比': '42%'}\n"
     ]
    },
    {
     "name": "stderr",
     "output_type": "stream",
     "text": [
      "處理 零售:  73%|███████▎  | 8/11 [02:57<01:15, 25.06s/公司]"
     ]
    },
    {
     "name": "stdout",
     "output_type": "stream",
     "text": [
      "正在處理公司：KR\n",
      "eps_past_year: 2.96\n",
      "eps_past_year_5: 2.04\n",
      "14.385\n",
      "growth:  11.83\n",
      "after growth:  13.01\n",
      "{'預估PE': 13.01, '25年EPS': 4.58, '25年合理價': 60, '26年EPS': 4.9, '26年合理價': 64, '五年PE MEDIAN': 14.385, '五年PE中位價': 66, '25年估值': '低估', '25年相差百分比': '8%', '26年PE中位價': 70, '26年估值': '低估', '26年相差百分比': '13%'}\n"
     ]
    },
    {
     "name": "stderr",
     "output_type": "stream",
     "text": [
      "處理 零售:  82%|████████▏ | 9/11 [03:32<00:56, 28.20s/公司]"
     ]
    },
    {
     "name": "stdout",
     "output_type": "stream",
     "text": [
      "正在處理公司：PG\n",
      "eps_past_year: 6.02\n",
      "eps_past_year_5: 4.96\n",
      "23.95\n",
      "growth:  8.2\n",
      "after growth:  8.2\n",
      "{'預估PE': 8.2, '25年EPS': 7.16, '25年合理價': 59, '26年EPS': 7.66, '26年合理價': 63, '五年PE MEDIAN': 23.95, '五年PE中位價': 171, '25年估值': '低估', '25年相差百分比': '2%', '26年PE中位價': 183, '26年估值': '低估', '26年相差百分比': '9%'}\n"
     ]
    },
    {
     "name": "stderr",
     "output_type": "stream",
     "text": [
      "處理 零售:  91%|█████████ | 10/11 [04:06<00:29, 29.91s/公司]"
     ]
    },
    {
     "name": "stdout",
     "output_type": "stream",
     "text": [
      "正在處理公司：EL\n",
      "eps_past_year: 1.08\n",
      "eps_past_year_5: 1.86\n",
      "76.775\n",
      "growth:  37.4\n",
      "after growth:  74.8\n",
      "{'預估PE': 74.8, '25年EPS': 1.62, '25年合理價': 121, '26年EPS': 2.77, '26年合理價': 207, '五年PE MEDIAN': 76.775, '五年PE中位價': 124, '25年估值': '低估', '25年相差百分比': '31%', '26年PE中位價': 213, '26年估值': '低估', '26年相差百分比': '60%'}\n"
     ]
    },
    {
     "name": "stderr",
     "output_type": "stream",
     "text": [
      "處理 零售: 100%|██████████| 11/11 [04:27<00:00, 24.36s/公司]\n"
     ]
    },
    {
     "name": "stdout",
     "output_type": "stream",
     "text": [
      "\n",
      "正在處理產業：食品，包含 15 家公司。\n"
     ]
    },
    {
     "name": "stderr",
     "output_type": "stream",
     "text": [
      "處理 食品:   0%|          | 0/15 [00:00<?, ?公司/s]"
     ]
    },
    {
     "name": "stdout",
     "output_type": "stream",
     "text": [
      "正在處理公司：JACK\n",
      "eps_past_year: -1.87\n",
      "eps_past_year_5: 3.86\n",
      "12.705\n",
      "growth:  0\n",
      "after growth:  0.0\n",
      "{'預估PE': 0.0, '25年EPS': 5.44, '25年合理價': 0, '26年EPS': 6.09, '26年合理價': 0, '五年PE MEDIAN': 12.705, '五年PE中位價': 69, '25年估值': '低估', '25年相差百分比': '42%', '26年PE中位價': 77, '26年估值': '低估', '26年相差百分比': '48%'}\n"
     ]
    },
    {
     "name": "stderr",
     "output_type": "stream",
     "text": [
      "處理 食品:   7%|▋         | 1/15 [00:28<06:34, 28.20s/公司]"
     ]
    },
    {
     "name": "stdout",
     "output_type": "stream",
     "text": [
      "正在處理公司：CAKE\n",
      "eps_past_year: 3.38\n",
      "eps_past_year_5: -6.32\n",
      "16.25\n",
      "growth:  21.51\n",
      "after growth:  32.27\n",
      "{'預估PE': 32.27, '25年EPS': 3.76, '25年合理價': 121, '26年EPS': 4.14, '26年合理價': 134, '五年PE MEDIAN': 16.25, '五年PE中位價': 61, '25年估值': '低估', '25年相差百分比': '8%', '26年PE中位價': 67, '26年估值': '低估', '26年相差百分比': '16%'}\n"
     ]
    },
    {
     "name": "stderr",
     "output_type": "stream",
     "text": [
      "處理 食品:  13%|█▎        | 2/15 [00:52<05:39, 26.12s/公司]"
     ]
    },
    {
     "name": "stdout",
     "output_type": "stream",
     "text": [
      "正在處理公司：BLMN\n",
      "eps_past_year: 1.83\n",
      "eps_past_year_5: -1.85\n",
      "9.73\n",
      "growth:  -3.78\n",
      "after growth:  -7.56\n",
      "{'預估PE': -7.56, '25年EPS': 1.86, '25年合理價': -14, '26年EPS': 2.1, '26年合理價': -16, '五年PE MEDIAN': 9.73, '五年PE中位價': 18, '25年估值': '低估', '25年相差百分比': '28%', '26年PE中位價': 20, '26年估值': '低估', '26年相差百分比': '36%'}\n"
     ]
    },
    {
     "name": "stderr",
     "output_type": "stream",
     "text": [
      "處理 食品:  20%|██        | 3/15 [01:18<05:08, 25.68s/公司]"
     ]
    },
    {
     "name": "stdout",
     "output_type": "stream",
     "text": [
      "正在處理公司：CMG\n",
      "eps_past_year: 1.13\n",
      "eps_past_year_5: 0.25\n",
      "53.63\n",
      "growth:  19.68\n",
      "after growth:  23.62\n",
      "{'預估PE': 23.62, '25年EPS': 1.34, '25年合理價': 32, '26年EPS': 1.59, '26年合理價': 38, '五年PE MEDIAN': 53.63, '五年PE中位價': 72, '25年估值': '低估', '25年相差百分比': '18%', '26年PE中位價': 85, '26年估值': '低估', '26年相差百分比': '31%'}\n"
     ]
    },
    {
     "name": "stderr",
     "output_type": "stream",
     "text": [
      "處理 食品:  27%|██▋       | 4/15 [01:33<03:57, 21.60s/公司]"
     ]
    },
    {
     "name": "stdout",
     "output_type": "stream",
     "text": [
      "正在處理公司：DIN\n",
      "eps_past_year: 5.87\n",
      "eps_past_year_5: -6.43\n",
      "No growth forecasts found for DIN\n",
      "8.895\n",
      "growth:  0\n",
      "after growth:  0.0\n",
      "{'預估PE': 0.0, '25年EPS': 5.97, '25年合理價': 0, '26年EPS': 6.35, '26年合理價': 0, '五年PE MEDIAN': 8.895, '五年PE中位價': 53, '25年估值': '低估', '25年相差百分比': '42%', '26年PE中位價': 56, '26年估值': '低估', '26年相差百分比': '45%'}\n"
     ]
    },
    {
     "name": "stderr",
     "output_type": "stream",
     "text": [
      "處理 食品:  33%|███▎      | 5/15 [01:48<03:12, 19.22s/公司]"
     ]
    },
    {
     "name": "stdout",
     "output_type": "stream",
     "text": [
      "正在處理公司：DENN\n",
      "eps_past_year: 0.54\n",
      "eps_past_year_5: -0.08\n",
      "No growth forecasts found for DENN\n",
      "14.415\n",
      "growth:  0\n",
      "after growth:  0.0\n"
     ]
    },
    {
     "name": "stderr",
     "output_type": "stream",
     "text": [
      "處理 食品:  33%|███▎      | 5/15 [01:53<03:46, 22.67s/公司]"
     ]
    },
    {
     "name": "stdout",
     "output_type": "stream",
     "text": [
      "Error fetching URL: 429 Client Error: Too Many Requests for url: https://www.macrotrends.net/stocks/charts/DENN/denny's/pe-ratio\n"
     ]
    },
    {
     "name": "stderr",
     "output_type": "stream",
     "text": [
      "\n"
     ]
    },
    {
     "ename": "TypeError",
     "evalue": "can't multiply sequence by non-int of type 'float'",
     "output_type": "error",
     "traceback": [
      "\u001b[0;31m---------------------------------------------------------------------------\u001b[0m",
      "\u001b[0;31mTypeError\u001b[0m                                 Traceback (most recent call last)",
      "Cell \u001b[0;32mIn[246], line 1\u001b[0m\n\u001b[0;32m----> 1\u001b[0m df \u001b[38;5;241m=\u001b[39m \u001b[43maggregate_company_data\u001b[49m\u001b[43m(\u001b[49m\u001b[43mstock_list\u001b[49m\u001b[43m,\u001b[49m\u001b[43m \u001b[49m\u001b[38;5;241;43m2025\u001b[39;49m\u001b[43m)\u001b[49m  \u001b[38;5;66;03m# Example usage\u001b[39;00m\n",
      "Cell \u001b[0;32mIn[216], line 19\u001b[0m, in \u001b[0;36maggregate_company_data\u001b[0;34m(stock_list, current_year)\u001b[0m\n\u001b[1;32m     17\u001b[0m \u001b[38;5;28;01mfor\u001b[39;00m company \u001b[38;5;129;01min\u001b[39;00m tqdm(companies, desc\u001b[38;5;241m=\u001b[39m\u001b[38;5;124mf\u001b[39m\u001b[38;5;124m\"\u001b[39m\u001b[38;5;124m處理 \u001b[39m\u001b[38;5;132;01m{\u001b[39;00mindustry\u001b[38;5;132;01m}\u001b[39;00m\u001b[38;5;124m\"\u001b[39m, unit\u001b[38;5;241m=\u001b[39m\u001b[38;5;124m\"\u001b[39m\u001b[38;5;124m公司\u001b[39m\u001b[38;5;124m\"\u001b[39m):\n\u001b[1;32m     18\u001b[0m     \u001b[38;5;28mprint\u001b[39m(\u001b[38;5;124mf\u001b[39m\u001b[38;5;124m\"\u001b[39m\u001b[38;5;124m正在處理公司：\u001b[39m\u001b[38;5;132;01m{\u001b[39;00mcompany\u001b[38;5;132;01m}\u001b[39;00m\u001b[38;5;124m\"\u001b[39m)\n\u001b[0;32m---> 19\u001b[0m     company_data \u001b[38;5;241m=\u001b[39m \u001b[43mprocess_company\u001b[49m\u001b[43m(\u001b[49m\u001b[43mcompany\u001b[49m\u001b[43m,\u001b[49m\u001b[43m \u001b[49m\u001b[43mcurrent_year\u001b[49m\u001b[43m \u001b[49m\u001b[38;5;241;43m=\u001b[39;49m\u001b[43mcurrent_year\u001b[49m\u001b[43m)\u001b[49m\n\u001b[1;32m     20\u001b[0m     \u001b[38;5;28;01mif\u001b[39;00m company_data:\n\u001b[1;32m     21\u001b[0m         \u001b[38;5;66;03m# 添加元數據\u001b[39;00m\n\u001b[1;32m     22\u001b[0m         company_data[\u001b[38;5;124m'\u001b[39m\u001b[38;5;124mIndustry\u001b[39m\u001b[38;5;124m'\u001b[39m] \u001b[38;5;241m=\u001b[39m industry\n",
      "Cell \u001b[0;32mIn[213], line 28\u001b[0m, in \u001b[0;36mprocess_company\u001b[0;34m(company, current_year)\u001b[0m\n\u001b[1;32m     26\u001b[0m stock_data\u001b[38;5;241m.\u001b[39mupdate(growth_data)\n\u001b[1;32m     27\u001b[0m \u001b[38;5;66;03m# Perform calculations\u001b[39;00m\n\u001b[0;32m---> 28\u001b[0m valuations \u001b[38;5;241m=\u001b[39m \u001b[43mcalculate_valuations\u001b[49m\u001b[43m(\u001b[49m\n\u001b[1;32m     29\u001b[0m \u001b[43m    \u001b[49m\u001b[43mstock_data\u001b[49m\u001b[38;5;241;43m=\u001b[39;49m\u001b[43mstock_data\u001b[49m\u001b[43m,\u001b[49m\n\u001b[1;32m     30\u001b[0m \u001b[43m    \u001b[49m\u001b[43mcurrent_year\u001b[49m\u001b[38;5;241;43m=\u001b[39;49m\u001b[43m \u001b[49m\u001b[43mcurrent_year\u001b[49m\n\u001b[1;32m     31\u001b[0m \u001b[43m\u001b[49m\u001b[43m)\u001b[49m\n\u001b[1;32m     32\u001b[0m \u001b[38;5;28mprint\u001b[39m(valuations)\n\u001b[1;32m     33\u001b[0m \u001b[38;5;66;03m# Compile all data into a single dictionary\u001b[39;00m\n",
      "Cell \u001b[0;32mIn[238], line 47\u001b[0m, in \u001b[0;36mcalculate_valuations\u001b[0;34m(stock_data, current_year)\u001b[0m\n\u001b[1;32m     45\u001b[0m \u001b[38;5;66;03m# Five-year PE Median and Median Valuation\u001b[39;00m\n\u001b[1;32m     46\u001b[0m valuations[\u001b[38;5;124m\"\u001b[39m\u001b[38;5;124m五年PE MEDIAN\u001b[39m\u001b[38;5;124m\"\u001b[39m] \u001b[38;5;241m=\u001b[39m analyze_pe_ratios(parse_pe_ratios(stock_data[\u001b[38;5;124m'\u001b[39m\u001b[38;5;124mticker\u001b[39m\u001b[38;5;124m'\u001b[39m]))\n\u001b[0;32m---> 47\u001b[0m valuations[\u001b[38;5;124m\"\u001b[39m\u001b[38;5;124m五年PE中位價\u001b[39m\u001b[38;5;124m\"\u001b[39m] \u001b[38;5;241m=\u001b[39m \u001b[38;5;28mround\u001b[39m(\u001b[43mvaluations\u001b[49m\u001b[43m[\u001b[49m\u001b[38;5;124;43m\"\u001b[39;49m\u001b[38;5;124;43m五年PE MEDIAN\u001b[39;49m\u001b[38;5;124;43m\"\u001b[39;49m\u001b[43m]\u001b[49m\u001b[43m \u001b[49m\u001b[38;5;241;43m*\u001b[39;49m\u001b[43m \u001b[49m\u001b[43mvaluations\u001b[49m\u001b[43m[\u001b[49m\u001b[38;5;124;43mf\u001b[39;49m\u001b[38;5;124;43m\"\u001b[39;49m\u001b[38;5;132;43;01m{\u001b[39;49;00m\u001b[43mcurrent_year_suffix\u001b[49m\u001b[38;5;132;43;01m}\u001b[39;49;00m\u001b[38;5;124;43m年EPS\u001b[39;49m\u001b[38;5;124;43m\"\u001b[39;49m\u001b[43m]\u001b[49m)\n\u001b[1;32m     49\u001b[0m \u001b[38;5;66;03m# Valuation Comparison for Current Year\u001b[39;00m\n\u001b[1;32m     50\u001b[0m \u001b[38;5;28;01mif\u001b[39;00m stock_data\u001b[38;5;241m.\u001b[39mget(\u001b[38;5;124m'\u001b[39m\u001b[38;5;124m股價\u001b[39m\u001b[38;5;124m'\u001b[39m, \u001b[38;5;241m0\u001b[39m) \u001b[38;5;241m>\u001b[39m valuations[\u001b[38;5;124m\"\u001b[39m\u001b[38;5;124m五年PE中位價\u001b[39m\u001b[38;5;124m\"\u001b[39m]:\n",
      "\u001b[0;31mTypeError\u001b[0m: can't multiply sequence by non-int of type 'float'"
     ]
    }
   ],
   "source": [
    "df = aggregate_company_data(stock_list, 2025)  # Example usage"
   ]
  },
  {
   "cell_type": "code",
   "execution_count": 132,
   "metadata": {},
   "outputs": [
    {
     "name": "stdout",
     "output_type": "stream",
     "text": [
      "\n",
      "所有數據已保存到 stock_data.xlsx\n"
     ]
    }
   ],
   "source": [
    "import os\n",
    "def save_to_excel(industry_dataframes, path):\n",
    "    \"\"\"\n",
    "    將各產業的DataFrame保存到Excel文件中的不同工作表，並轉置數據。\n",
    "\n",
    "    Args:\n",
    "        industry_dataframes (dict): 以產業為鍵，轉置後的DataFrame為值的字典。\n",
    "        path (str): 要保存的Excel文件路徑。\n",
    "    \"\"\"\n",
    "    with pd.ExcelWriter(path, engine='xlsxwriter') as writer:\n",
    "        for industry, df in industry_dataframes.items():\n",
    "            df.to_excel(writer, sheet_name=industry, index=True)\n",
    "    print(f\"\\n所有數據已保存到 {path}\")\n",
    "save_to_excel(df, 'stock_data.xlsx')  # Example usage"
   ]
  },
  {
   "cell_type": "code",
   "execution_count": null,
   "metadata": {},
   "outputs": [],
   "source": []
  }
 ],
 "metadata": {
  "kernelspec": {
   "display_name": "Python 3",
   "language": "python",
   "name": "python3"
  },
  "language_info": {
   "codemirror_mode": {
    "name": "ipython",
    "version": 3
   },
   "file_extension": ".py",
   "mimetype": "text/x-python",
   "name": "python",
   "nbconvert_exporter": "python",
   "pygments_lexer": "ipython3",
   "version": "3.10.4"
  }
 },
 "nbformat": 4,
 "nbformat_minor": 2
}
